{
 "cells": [
  {
   "cell_type": "code",
   "execution_count": 1,
   "id": "51e2f000",
   "metadata": {},
   "outputs": [],
   "source": [
    "# tic_tac_toe.py\n",
    "import tkinter as tk\n",
    "from tkinter import messagebox\n",
    "\n",
    "class TicTacToe:\n",
    "    def __init__(self, root):\n",
    "        self.root = root\n",
    "        self.root.title(\"Tic-Tac-Toe\")\n",
    "        self.current_player = \"X\"\n",
    "        self.board = [\"\"] * 9\n",
    "        self.buttons = []\n",
    "        self.create_board()\n",
    "\n",
    "    def create_board(self):\n",
    "        for i in range(9):\n",
    "            button = tk.Button(self.root, text=\"\", font=(\"Arial\", 24), width=5, height=2,\n",
    "                               command=lambda i=i: self.make_move(i))\n",
    "            button.grid(row=i//3, column=i%3)\n",
    "            self.buttons.append(button)\n",
    "\n",
    "    def make_move(self, index):\n",
    "        if self.board[index] == \"\":\n",
    "            self.board[index] = self.current_player\n",
    "            self.buttons[index].config(text=self.current_player)\n",
    "            if self.check_winner():\n",
    "                messagebox.showinfo(\"Tic-Tac-Toe\", f\"Player {self.current_player} wins!\")\n",
    "                self.reset_game()\n",
    "            elif \"\" not in self.board:\n",
    "                messagebox.showinfo(\"Tic-Tac-Toe\", \"It's a tie!\")\n",
    "                self.reset_game()\n",
    "            else:\n",
    "                self.current_player = \"O\" if self.current_player == \"X\" else \"X\"\n",
    "\n",
    "    def check_winner(self):\n",
    "        win_conditions = [\n",
    "            [0, 1, 2], [3, 4, 5], [6, 7, 8],  # Rows\n",
    "            [0, 3, 6], [1, 4, 7], [2, 5, 8],  # Columns\n",
    "            [0, 4, 8], [2, 4, 6]  # Diagonals\n",
    "        ]\n",
    "        for condition in win_conditions:\n",
    "            if self.board[condition[0]] == self.board[condition[1]] == self.board[condition[2]] != \"\":\n",
    "                return True\n",
    "        return False\n",
    "\n",
    "    def reset_game(self):\n",
    "        self.board = [\"\"] * 9\n",
    "        for button in self.buttons:\n",
    "            button.config(text=\"\")\n",
    "        self.current_player = \"X\"\n",
    "\n",
    "if __name__ == \"__main__\":\n",
    "    root = tk.Tk()\n",
    "    game = TicTacToe(root)\n",
    "    root.mainloop()\n"
   ]
  },
  {
   "cell_type": "code",
   "execution_count": null,
   "id": "813544cc",
   "metadata": {},
   "outputs": [],
   "source": []
  }
 ],
 "metadata": {
  "kernelspec": {
   "display_name": "Python 3 (ipykernel)",
   "language": "python",
   "name": "python3"
  },
  "language_info": {
   "codemirror_mode": {
    "name": "ipython",
    "version": 3
   },
   "file_extension": ".py",
   "mimetype": "text/x-python",
   "name": "python",
   "nbconvert_exporter": "python",
   "pygments_lexer": "ipython3",
   "version": "3.9.7"
  }
 },
 "nbformat": 4,
 "nbformat_minor": 5
}
